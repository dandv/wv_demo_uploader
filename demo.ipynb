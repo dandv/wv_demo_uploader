{
 "cells": [
  {
   "cell_type": "code",
   "execution_count": 1,
   "metadata": {},
   "outputs": [],
   "source": [
    "import weaviate\n",
    "import os\n",
    "import json\n",
    "\n",
    "wv_url = \"https://some-endpoint.weaviate.network\"\n",
    "api_key = os.environ.get(\"OPENAI_API_KEY\")\n",
    "\n",
    "auth = weaviate.AuthClientPassword(\n",
    "    username=os.environ.get(\"WCS_USER\"),\n",
    "    password=os.environ.get(\"WCS_PASS\"),\n",
    ")\n",
    "\n",
    "client = weaviate.Client(\n",
    "    url=wv_url,\n",
    "    auth_client_secret=auth,\n",
    "    additional_headers={\"X-OpenAI-Api-Key\": api_key},\n",
    ")"
   ]
  },
  {
   "cell_type": "code",
   "execution_count": 2,
   "metadata": {},
   "outputs": [],
   "source": [
    "# client.schema.delete_all()"
   ]
  },
  {
   "cell_type": "code",
   "execution_count": 3,
   "metadata": {},
   "outputs": [
    {
     "name": "stdout",
     "output_type": "stream",
     "text": [
      "{'WineReview': False}\n",
      "[\n",
      "  {\n",
      "    \"class\": \"WineReview\",\n",
      "    \"vectorizer\": \"text2vec-openai\",\n",
      "    \"properties\": [\n",
      "      {\n",
      "        \"name\": \"review_body\",\n",
      "        \"dataType\": [\n",
      "          \"text\"\n",
      "        ],\n",
      "        \"description\": \"Review body\"\n",
      "      },\n",
      "      {\n",
      "        \"name\": \"title\",\n",
      "        \"dataType\": [\n",
      "          \"string\"\n",
      "        ],\n",
      "        \"description\": \"Name of the wine\"\n",
      "      },\n",
      "      {\n",
      "        \"name\": \"country\",\n",
      "        \"dataType\": [\n",
      "          \"string\"\n",
      "        ],\n",
      "        \"description\": \"Originating country\"\n",
      "      },\n",
      "      {\n",
      "        \"name\": \"points\",\n",
      "        \"dataType\": [\n",
      "          \"int\"\n",
      "        ],\n",
      "        \"description\": \"Review score in points\"\n",
      "      },\n",
      "      {\n",
      "        \"name\": \"price\",\n",
      "        \"dataType\": [\n",
      "          \"number\"\n",
      "        ],\n",
      "        \"description\": \"Listed price\"\n",
      "      }\n",
      "    ]\n",
      "  }\n",
      "]\n"
     ]
    }
   ],
   "source": [
    "import wv_datasets\n",
    "\n",
    "dataset = wv_datasets.WineReviews()  # Try JeopardyQuestions, WikiArticles, or WineReviews\n",
    "print(dataset.classes_in_schema(client))\n",
    "class_defs = dataset.see_class_definitions()\n",
    "print(json.dumps(class_defs, indent=2))"
   ]
  },
  {
   "cell_type": "code",
   "execution_count": 4,
   "metadata": {},
   "outputs": [
    {
     "name": "stderr",
     "output_type": "stream",
     "text": [
      "50it [00:00, 3094.61it/s]\n"
     ]
    },
    {
     "data": {
      "text/plain": [
       "True"
      ]
     },
     "execution_count": 4,
     "metadata": {},
     "output_type": "execute_result"
    }
   ],
   "source": [
    "dataset.add_to_schema(client)\n",
    "dataset.upload_objects(client, batch_size=100)"
   ]
  },
  {
   "cell_type": "code",
   "execution_count": 5,
   "metadata": {},
   "outputs": [
    {
     "data": {
      "text/plain": [
       "{'data': {'Get': {'WineReview': [{'title': 'White Oak 2009 Cabernet Sauvignon (Napa Valley)'},\n",
       "    {'title': 'Domaine Foretal 2015  Beaujolais-Villages'},\n",
       "    {'title': 'Château Rauzan-Ségla 2012  Margaux'},\n",
       "    {'title': 'Clos La Chance 2008 Whitestone Vineyard Cabernet Sauvignon (Central Coast)'},\n",
       "    {'title': 'Luigi Bosca 2005 D.O.C Single Vineyard Malbec (Luján de Cuyo)'}]}}}"
      ]
     },
     "execution_count": 5,
     "metadata": {},
     "output_type": "execute_result"
    }
   ],
   "source": [
    "client.query.get(dataset.get_class_names()[0], [\"title\"]).with_limit(5).do()"
   ]
  },
  {
   "cell_type": "code",
   "execution_count": 6,
   "metadata": {},
   "outputs": [
    {
     "data": {
      "text/plain": [
       "{'data': {'Aggregate': {'WineReview': [{'meta': {'count': 50}}]}}}"
      ]
     },
     "execution_count": 6,
     "metadata": {},
     "output_type": "execute_result"
    },
    {
     "name": "stderr",
     "output_type": "stream",
     "text": [
      "Exception in thread TokenRefresh:\n",
      "Traceback (most recent call last):\n",
      "  File \"/Users/jphwang/mambaforge/lib/python3.10/site-packages/urllib3/connection.py\", line 174, in _new_conn\n",
      "    conn = connection.create_connection(\n",
      "  File \"/Users/jphwang/mambaforge/lib/python3.10/site-packages/urllib3/util/connection.py\", line 72, in create_connection\n",
      "    for res in socket.getaddrinfo(host, port, family, socket.SOCK_STREAM):\n",
      "  File \"/Users/jphwang/mambaforge/lib/python3.10/socket.py\", line 955, in getaddrinfo\n",
      "    for res in _socket.getaddrinfo(host, port, family, type, proto, flags):\n",
      "socket.gaierror: [Errno 8] nodename nor servname provided, or not known\n",
      "\n",
      "During handling of the above exception, another exception occurred:\n",
      "\n",
      "Traceback (most recent call last):\n",
      "  File \"/Users/jphwang/mambaforge/lib/python3.10/site-packages/urllib3/connectionpool.py\", line 703, in urlopen\n",
      "    httplib_response = self._make_request(\n",
      "  File \"/Users/jphwang/mambaforge/lib/python3.10/site-packages/urllib3/connectionpool.py\", line 386, in _make_request\n",
      "    self._validate_conn(conn)\n",
      "  File \"/Users/jphwang/mambaforge/lib/python3.10/site-packages/urllib3/connectionpool.py\", line 1042, in _validate_conn\n",
      "    conn.connect()\n",
      "  File \"/Users/jphwang/mambaforge/lib/python3.10/site-packages/urllib3/connection.py\", line 358, in connect\n",
      "    self.sock = conn = self._new_conn()\n",
      "  File \"/Users/jphwang/mambaforge/lib/python3.10/site-packages/urllib3/connection.py\", line 186, in _new_conn\n",
      "    raise NewConnectionError(\n",
      "urllib3.exceptions.NewConnectionError: <urllib3.connection.HTTPSConnection object at 0x1167d0220>: Failed to establish a new connection: [Errno 8] nodename nor servname provided, or not known\n",
      "\n",
      "During handling of the above exception, another exception occurred:\n",
      "\n",
      "Traceback (most recent call last):\n",
      "  File \"/Users/jphwang/mambaforge/lib/python3.10/site-packages/requests/adapters.py\", line 489, in send\n",
      "    resp = conn.urlopen(\n",
      "  File \"/Users/jphwang/mambaforge/lib/python3.10/site-packages/urllib3/connectionpool.py\", line 787, in urlopen\n",
      "    retries = retries.increment(\n",
      "  File \"/Users/jphwang/mambaforge/lib/python3.10/site-packages/urllib3/util/retry.py\", line 592, in increment\n",
      "    raise MaxRetryError(_pool, url, error or ResponseError(cause))\n",
      "urllib3.exceptions.MaxRetryError: HTTPSConnectionPool(host='auth.wcs.api.weaviate.io', port=443): Max retries exceeded with url: /auth/realms/SeMI/protocol/openid-connect/token (Caused by NewConnectionError('<urllib3.connection.HTTPSConnection object at 0x1167d0220>: Failed to establish a new connection: [Errno 8] nodename nor servname provided, or not known'))\n",
      "\n",
      "During handling of the above exception, another exception occurred:\n",
      "\n",
      "Traceback (most recent call last):\n",
      "  File \"/Users/jphwang/mambaforge/lib/python3.10/threading.py\", line 1016, in _bootstrap_inner\n",
      "    self.run()\n",
      "  File \"/Users/jphwang/mambaforge/lib/python3.10/threading.py\", line 953, in run\n",
      "    self._target(*self._args, **self._kwargs)\n",
      "  File \"/Users/jphwang/mambaforge/lib/python3.10/site-packages/weaviate/connect/connection.py\", line 168, in periodic_refresh_token\n",
      "    self._session.token = self._session.refresh_token(\n",
      "  File \"/Users/jphwang/mambaforge/lib/python3.10/site-packages/authlib/oauth2/client.py\", line 252, in refresh_token\n",
      "    return self._refresh_token(\n",
      "  File \"/Users/jphwang/mambaforge/lib/python3.10/site-packages/authlib/oauth2/client.py\", line 368, in _refresh_token\n",
      "    resp = self._http_post(url, body=body, auth=auth, headers=headers, **kwargs)\n",
      "  File \"/Users/jphwang/mambaforge/lib/python3.10/site-packages/authlib/oauth2/client.py\", line 425, in _http_post\n",
      "    return self.session.post(\n",
      "  File \"/Users/jphwang/mambaforge/lib/python3.10/site-packages/requests/sessions.py\", line 635, in post\n",
      "    return self.request(\"POST\", url, data=data, json=json, **kwargs)\n",
      "  File \"/Users/jphwang/mambaforge/lib/python3.10/site-packages/authlib/integrations/requests_client/oauth2_session.py\", line 109, in request\n",
      "    return super(OAuth2Session, self).request(\n",
      "  File \"/Users/jphwang/mambaforge/lib/python3.10/site-packages/requests/sessions.py\", line 587, in request\n",
      "    resp = self.send(prep, **send_kwargs)\n",
      "  File \"/Users/jphwang/mambaforge/lib/python3.10/site-packages/requests/sessions.py\", line 701, in send\n",
      "    r = adapter.send(request, **kwargs)\n",
      "  File \"/Users/jphwang/mambaforge/lib/python3.10/site-packages/requests/adapters.py\", line 565, in send\n",
      "    raise ConnectionError(e, request=request)\n",
      "requests.exceptions.ConnectionError: HTTPSConnectionPool(host='auth.wcs.api.weaviate.io', port=443): Max retries exceeded with url: /auth/realms/SeMI/protocol/openid-connect/token (Caused by NewConnectionError('<urllib3.connection.HTTPSConnection object at 0x1167d0220>: Failed to establish a new connection: [Errno 8] nodename nor servname provided, or not known'))\n",
      "sys:1: ResourceWarning: Unclosed socket <zmq.Socket(zmq.PUSH) at 0x1408aa1a0>\n",
      "ResourceWarning: Enable tracemalloc to get the object allocation traceback\n"
     ]
    }
   ],
   "source": [
    "client.query.aggregate(dataset.get_class_names()[0]).with_meta_count().do()"
   ]
  },
  {
   "cell_type": "code",
   "execution_count": null,
   "metadata": {},
   "outputs": [],
   "source": []
  }
 ],
 "metadata": {
  "kernelspec": {
   "display_name": "base",
   "language": "python",
   "name": "python3"
  },
  "language_info": {
   "codemirror_mode": {
    "name": "ipython",
    "version": 3
   },
   "file_extension": ".py",
   "mimetype": "text/x-python",
   "name": "python",
   "nbconvert_exporter": "python",
   "pygments_lexer": "ipython3",
   "version": "3.10.8"
  },
  "orig_nbformat": 4,
  "vscode": {
   "interpreter": {
    "hash": "52c10b9b9466d1d7122ef52d86fb6b9d38af57f910664926db9874c532b73093"
   }
  }
 },
 "nbformat": 4,
 "nbformat_minor": 2
}
