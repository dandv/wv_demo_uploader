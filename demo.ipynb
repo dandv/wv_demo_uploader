{
 "cells": [
  {
   "cell_type": "code",
   "execution_count": 1,
   "metadata": {},
   "outputs": [],
   "source": [
    "import weaviate\n",
    "import os\n",
    "import json\n",
    "\n",
    "wv_url = \"https://jptest.weaviate.network\"\n",
    "api_key = os.environ.get(\"OPENAI_API_KEY\")\n",
    "\n",
    "auth = weaviate.AuthClientPassword(\n",
    "    username=os.environ.get(\"WCS_USER\"),\n",
    "    password=os.environ.get(\"WCS_PASS\"),\n",
    ")\n",
    "\n",
    "client = weaviate.Client(\n",
    "    url=wv_url,\n",
    "    auth_client_secret=auth,\n",
    "    additional_headers={\"X-OpenAI-Api-Key\": api_key},\n",
    ")"
   ]
  },
  {
   "cell_type": "code",
   "execution_count": 2,
   "metadata": {},
   "outputs": [],
   "source": [
    "client.schema.delete_all()"
   ]
  },
  {
   "cell_type": "code",
   "execution_count": 3,
   "metadata": {},
   "outputs": [
    {
     "name": "stdout",
     "output_type": "stream",
     "text": [
      "{'JeopardyCategory': False, 'JeopardyQuestion': False}\n",
      "[\n",
      "  {\n",
      "    \"class\": \"JeopardyCategory\",\n",
      "    \"description\": \"A Jeopardy! category\",\n",
      "    \"vectorizer\": \"text2vec-openai\"\n",
      "  },\n",
      "  {\n",
      "    \"class\": \"JeopardyQuestion\",\n",
      "    \"description\": \"A Jeopardy! question\",\n",
      "    \"vectorizer\": \"text2vec-openai\",\n",
      "    \"properties\": [\n",
      "      {\n",
      "        \"name\": \"hasCategory\",\n",
      "        \"dataType\": [\n",
      "          \"JeopardyCategory\"\n",
      "        ],\n",
      "        \"description\": \"The category of the question\"\n",
      "      },\n",
      "      {\n",
      "        \"name\": \"question\",\n",
      "        \"dataType\": [\n",
      "          \"text\"\n",
      "        ],\n",
      "        \"description\": \"Question asked to the contestant\"\n",
      "      },\n",
      "      {\n",
      "        \"name\": \"answer\",\n",
      "        \"dataType\": [\n",
      "          \"text\"\n",
      "        ],\n",
      "        \"description\": \"Answer provided by the contestant\"\n",
      "      },\n",
      "      {\n",
      "        \"name\": \"value\",\n",
      "        \"dataType\": [\n",
      "          \"int\"\n",
      "        ],\n",
      "        \"description\": \"Points that the question was worth\"\n",
      "      },\n",
      "      {\n",
      "        \"name\": \"round\",\n",
      "        \"dataType\": [\n",
      "          \"string\"\n",
      "        ],\n",
      "        \"description\": \"Jeopardy round\"\n",
      "      },\n",
      "      {\n",
      "        \"name\": \"air_date\",\n",
      "        \"dataType\": [\n",
      "          \"date\"\n",
      "        ],\n",
      "        \"description\": \"Date that the episode first aired on TV\"\n",
      "      }\n",
      "    ]\n",
      "  }\n",
      "]\n"
     ]
    }
   ],
   "source": [
    "import wv_datasets\n",
    "\n",
    "dataset = wv_datasets.JeopardyQuestions()  # Try wv_datasets.WikiArticles or wv_datasets.WineReviews\n",
    "print(dataset.classes_in_schema(client))\n",
    "class_defs = dataset.see_class_definitions()\n",
    "print(json.dumps(class_defs, indent=2))"
   ]
  },
  {
   "cell_type": "code",
   "execution_count": 4,
   "metadata": {},
   "outputs": [
    {
     "name": "stderr",
     "output_type": "stream",
     "text": [
      "1000it [00:52, 18.89it/s]\n"
     ]
    },
    {
     "data": {
      "text/plain": [
       "True"
      ]
     },
     "execution_count": 4,
     "metadata": {},
     "output_type": "execute_result"
    }
   ],
   "source": [
    "dataset.add_to_schema(client)\n",
    "dataset.upload_objects(client, batch_size=100)"
   ]
  },
  {
   "cell_type": "code",
   "execution_count": 5,
   "metadata": {},
   "outputs": [
    {
     "data": {
      "text/plain": [
       "{'data': {'Get': {'JeopardyCategory': [{'title': 'WORD ORIGINS'},\n",
       "    {'title': 'LANGUAGES'},\n",
       "    {'title': 'ANIMALS'},\n",
       "    {'title': 'ART'},\n",
       "    {'title': 'AMERICAN HISTORY'}]}}}"
      ]
     },
     "execution_count": 5,
     "metadata": {},
     "output_type": "execute_result"
    }
   ],
   "source": [
    "client.query.get(dataset.get_class_names()[0], [\"title\"]).with_limit(5).do()"
   ]
  },
  {
   "cell_type": "code",
   "execution_count": 8,
   "metadata": {},
   "outputs": [
    {
     "data": {
      "text/plain": [
       "{'data': {'Aggregate': {'JeopardyCategory': [{'meta': {'count': 40}}]}}}"
      ]
     },
     "execution_count": 8,
     "metadata": {},
     "output_type": "execute_result"
    }
   ],
   "source": [
    "client.query.aggregate(dataset.get_class_names()[0]).with_meta_count().do()"
   ]
  },
  {
   "cell_type": "code",
   "execution_count": null,
   "metadata": {},
   "outputs": [],
   "source": []
  }
 ],
 "metadata": {
  "kernelspec": {
   "display_name": "base",
   "language": "python",
   "name": "python3"
  },
  "language_info": {
   "codemirror_mode": {
    "name": "ipython",
    "version": 3
   },
   "file_extension": ".py",
   "mimetype": "text/x-python",
   "name": "python",
   "nbconvert_exporter": "python",
   "pygments_lexer": "ipython3",
   "version": "3.10.8"
  },
  "orig_nbformat": 4,
  "vscode": {
   "interpreter": {
    "hash": "52c10b9b9466d1d7122ef52d86fb6b9d38af57f910664926db9874c532b73093"
   }
  }
 },
 "nbformat": 4,
 "nbformat_minor": 2
}
